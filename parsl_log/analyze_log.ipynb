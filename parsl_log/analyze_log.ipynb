{
 "cells": [
  {
   "cell_type": "code",
   "execution_count": 1,
   "metadata": {},
   "outputs": [],
   "source": [
    "#!/usr/bin/env python3\n",
    "import os\n",
    "from glob import glob\n",
    "import json\n",
    "import pickle\n",
    "\n",
    "#class LogRecord(object):\n",
    "#   def __init__ (self, uuid=None, uname=None, hname=None, source, test, start, local_tstamp):\n",
    "\n",
    "def pickle_to_file(data, filename):\n",
    "    with open(filename, 'wb') as f:\n",
    "        pickle.dump(data, f)\n",
    "\n",
    "def pickle_load_file(filename):\n",
    "    with open(filename, 'rb') as f:\n",
    "        return pickle.load(f)\n",
    "\n",
    "def process_log(logfile, central_log={}):\n",
    "    new = 0\n",
    "    hits = 0\n",
    "    with open(logfile, 'r') as f:\n",
    "        for line in f.readlines():\n",
    "            line = line.strip()\n",
    "            tstamp = line[0:23]\n",
    "            try:\n",
    "                [[_,source],[_,msg]]= [i.split(':',1) for i in line[24:].split(',',1)]\n",
    "            except ValueError:\n",
    "                continue\n",
    "\n",
    "            record = json.loads(msg)\n",
    "            if record['uuid'] not in central_log:\n",
    "                new += 1\n",
    "                central_log[record['uuid']] = {'source' : source}\n",
    "                central_log[record['uuid']].update(record)\n",
    "            else:\n",
    "                hits += 1\n",
    "                central_log[record['uuid']].update(record)\n",
    "\n",
    "    return (new, hits)\n",
    "\n",
    "def read_files():\n",
    "    data = {}\n",
    "    for logfile in glob(\"*log\"):\n",
    "        try:\n",
    "            new, hits = process_log(logfile, central_log=data)\n",
    "        except Exception as e:\n",
    "            print(\"[ERROR] Failed to process logfile : \", logfile)\n",
    "\n",
    "        print(\"Log:{} NewRecords:{} Hits:{}\".format(logfile, new, hits))\n",
    "    \n",
    "    return data\n"
   ]
  },
  {
   "cell_type": "code",
   "execution_count": 2,
   "metadata": {},
   "outputs": [],
   "source": [
    "data = pickle_load_file(\"data_oct_2021.pkl\")"
   ]
  },
  {
   "cell_type": "code",
   "execution_count": 3,
   "metadata": {},
   "outputs": [
    {
     "name": "stdout",
     "output_type": "stream",
     "text": [
      "{'c_time': None,\n",
      " 'end': 1526009623.843923,\n",
      " 'failed': 0,\n",
      " 'hname': 'a1b4b182f4',\n",
      " 'parsl_v': '0.5.0',\n",
      " 'python_v': '3.5.5',\n",
      " 'sites': 1,\n",
      " 'source': '34.233.56.198',\n",
      " 'start': 1526008996.9807324,\n",
      " 't_apps': 0,\n",
      " 'test': True,\n",
      " 'uname': '9611d66d2d',\n",
      " 'uuid': '2affd23c-8938-47f1-9bbe-88c2ddc10f47'}\n",
      "{'hname': '628b5e4576',\n",
      " 'parsl_v': '0.5.2',\n",
      " 'python_v': '3.6.5',\n",
      " 'source': '200.20.187.20',\n",
      " 'start': 1534445687.047495,\n",
      " 'test': False,\n",
      " 'uname': '4813494d13',\n",
      " 'uuid': '8bd85c01-2db2-4f79-80c7-4ca393e4d18f'}\n",
      "{'c_time': None,\n",
      " 'end': 1524092402.324931,\n",
      " 'failed': 0,\n",
      " 'hname': 'e4156a049b',\n",
      " 'parsl_v': '0.5.0',\n",
      " 'python_v': '3.5.5',\n",
      " 'sites': 1,\n",
      " 'source': '52.3.55.28',\n",
      " 'start': 1524092400.1022968,\n",
      " 't_apps': 4,\n",
      " 'test': True,\n",
      " 'uname': '9611d66d2d',\n",
      " 'uuid': 'f71a228f-562c-41ee-b1ca-b1e2a6e2d932'}\n",
      "{'c_time': None,\n",
      " 'end': 1524674932.2870443,\n",
      " 'failed': 0,\n",
      " 'hname': '76104c53e4',\n",
      " 'parsl_v': '0.5.0',\n",
      " 'python_v': '3.5.5',\n",
      " 'sites': 0,\n",
      " 'source': '34.233.56.198',\n",
      " 'start': 1524674869.375399,\n",
      " 't_apps': 10,\n",
      " 'test': True,\n",
      " 'uname': '9611d66d2d',\n",
      " 'uuid': 'bf1dae43-5bf0-4432-b8c6-47c6f8b3fb77'}\n",
      "{'hname': '7587a49c39',\n",
      " 'parsl_v': '0.5.1',\n",
      " 'python_v': '3.6.2',\n",
      " 'source': '128.135.98.161',\n",
      " 'start': 1527693847.444215,\n",
      " 'test': True,\n",
      " 'uname': '5bb6aa0564',\n",
      " 'uuid': '93d5c277-952c-48e1-ae9c-c1860cc293a0'}\n",
      "{'hname': 'd9e4783298',\n",
      " 'parsl_v': '0.5.0',\n",
      " 'python_v': '3.6.3',\n",
      " 'source': '147.75.192.163',\n",
      " 'start': 1526409399.6555264,\n",
      " 'test': True,\n",
      " 'uname': '9611d66d2d',\n",
      " 'uuid': '919afba2-2823-4e3d-858c-a1547a8a6eda'}\n",
      "{'c_time': None,\n",
      " 'end': 1525718854.890559,\n",
      " 'failed': 0,\n",
      " 'hname': '7587a49c39',\n",
      " 'parsl_v': '0.5.0',\n",
      " 'python_v': '3.6.2',\n",
      " 'sites': 1,\n",
      " 'source': '128.135.98.203',\n",
      " 'start': 1525718830.315845,\n",
      " 't_apps': 0,\n",
      " 'test': True,\n",
      " 'uname': '5bb6aa0564',\n",
      " 'uuid': '0c423b8c-ffe1-4c4c-825d-d21967e7ea62'}\n",
      "{'c_time': None,\n",
      " 'end': 1524435220.502531,\n",
      " 'failed': 0,\n",
      " 'hname': '1e7522180a',\n",
      " 'parsl_v': '0.5.0',\n",
      " 'python_v': '3.6.2',\n",
      " 'sites': 0,\n",
      " 'source': '24.14.42.155',\n",
      " 'start': 1524435171.8386219,\n",
      " 't_apps': 6,\n",
      " 'test': True,\n",
      " 'uname': '5bb6aa0564',\n",
      " 'uuid': '264be19d-6e82-4236-8642-8247fca59c5c'}\n",
      "{'hname': '8e6dce2804',\n",
      " 'os': 'Linux',\n",
      " 'os_v': '4.4.0-101-generic',\n",
      " 'parsl_v': '0.7.1',\n",
      " 'python_v': '3.5.6',\n",
      " 'source': '35.202.145.110',\n",
      " 'start': 1551812767.745931,\n",
      " 'test': True,\n",
      " 'uname': '9611d66d2d',\n",
      " 'uuid': 'c3cf2cb8-a562-404e-b2c9-1733ea07d996'}\n",
      "{'hname': 'ba9747a803',\n",
      " 'parsl_v': '0.5.2',\n",
      " 'python_v': '3.8.0',\n",
      " 'source': '128.55.224.107',\n",
      " 'start': 1620330478.9580557,\n",
      " 'test': False,\n",
      " 'uname': '7f21b92f4c',\n",
      " 'uuid': '6708100b-d120-4463-b15e-f212a8000dc7'}\n",
      "{'hname': 'c8c4722138',\n",
      " 'os': 'Linux',\n",
      " 'os_v': '3.10.0-862.14.4.el7.x86_64',\n",
      " 'parsl_v': '0.7.1',\n",
      " 'python_v': '3.6.6',\n",
      " 'source': '128.135.112.69',\n",
      " 'start': 1551124828.2404313,\n",
      " 'test': False,\n",
      " 'uname': '8cfa8dd79e',\n",
      " 'uuid': 'a74d4ddc-c7cb-4cbb-bc82-858c16e5a88e'}\n"
     ]
    }
   ],
   "source": [
    "import pprint\n",
    "cnt = 0\n",
    "for e in data:\n",
    "    pprint.pprint(data[e])\n",
    "    cnt += 1\n",
    "    if cnt > 10:\n",
    "        break"
   ]
  },
  {
   "cell_type": "code",
   "execution_count": 4,
   "metadata": {},
   "outputs": [
    {
     "name": "stdout",
     "output_type": "stream",
     "text": [
      "Total unique uuids: 536066\n",
      "Total unique uuids with end: 131355\n"
     ]
    }
   ],
   "source": [
    "from collections import Counter\n",
    "\n",
    "unique_uuid = set()\n",
    "end_cnt = Counter(obj['uuid'] for obj in data.values() if 'end' in obj)\n",
    "\n",
    "for e in data:\n",
    "    obj = data[e]\n",
    "    unique_uuid.add(obj['uuid'])\n",
    "\n",
    "print(\"Total unique uuids:\", len(unique_uuid))\n",
    "print(\"Total unique uuids with end:\", len(end_cnt))"
   ]
  },
  {
   "cell_type": "code",
   "execution_count": 5,
   "metadata": {},
   "outputs": [
    {
     "name": "stdout",
     "output_type": "stream",
     "text": [
      "0.24503512627176505\n"
     ]
    }
   ],
   "source": [
    "print(len(end_cnt)/len(unique_uuid))"
   ]
  },
  {
   "cell_type": "code",
   "execution_count": 6,
   "metadata": {},
   "outputs": [
    {
     "name": "stdout",
     "output_type": "stream",
     "text": [
      "Total unique uuids with end but no start: 623\n"
     ]
    }
   ],
   "source": [
    "wierd_cnt = Counter(obj['uuid'] for obj in data.values() if 'end' in obj and 'start' not in obj)\n",
    "print(\"Total unique uuids with end but no start:\", len(wierd_cnt))"
   ]
  },
  {
   "cell_type": "code",
   "execution_count": 7,
   "metadata": {},
   "outputs": [
    {
     "name": "stdout",
     "output_type": "stream",
     "text": [
      "Mean: 745.5609406649937\n",
      "Std: 9190.300066370284\n",
      "Min: 0.00035071372985839844\n",
      "Max: 1730707.6883428097\n"
     ]
    }
   ],
   "source": [
    "import numpy as np\n",
    "\n",
    "start_end = [obj['end'] - obj['start'] for obj in data.values() if 'end' in obj and 'start' in obj]\n",
    "\n",
    "print(\"Mean:\", np.mean(start_end))\n",
    "print(\"Std:\", np.std(start_end))\n",
    "print(\"Min:\", np.min(start_end))\n",
    "print(\"Max:\", np.max(start_end))\n"
   ]
  },
  {
   "cell_type": "code",
   "execution_count": null,
   "metadata": {},
   "outputs": [],
   "source": []
  }
 ],
 "metadata": {
  "kernelspec": {
   "display_name": "base",
   "language": "python",
   "name": "python3"
  },
  "language_info": {
   "codemirror_mode": {
    "name": "ipython",
    "version": 3
   },
   "file_extension": ".py",
   "mimetype": "text/x-python",
   "name": "python",
   "nbconvert_exporter": "python",
   "pygments_lexer": "ipython3",
   "version": "3.12.2"
  }
 },
 "nbformat": 4,
 "nbformat_minor": 2
}
