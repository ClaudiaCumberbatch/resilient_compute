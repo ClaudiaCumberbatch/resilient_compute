{
 "cells": [
  {
   "cell_type": "code",
   "execution_count": 1,
   "metadata": {},
   "outputs": [],
   "source": [
    "import re\n",
    "\n",
    "def parse_log_line(line):\n",
    "    pattern = re.compile(\n",
    "        r'Running (?P<workflow>\\w+) at (?P<timestamp>\\d+\\.\\d+) with failure rate (?P<failure_rate>\\d+\\.\\d+) and failure type (?P<failure_type>\\w+) \\((?P<current_run>\\d+)/(?P<total_runs>\\d+)\\)'\n",
    "    )\n",
    "    match = pattern.match(line)\n",
    "    if match:\n",
    "        return match.groupdict()\n",
    "    else:\n",
    "        return None\n",
    "\n",
    "def parse_log_file(file_path):\n",
    "    parsed_logs = []\n",
    "    with open(file_path, 'r') as file:\n",
    "        for line in file:\n",
    "            parsed_line = parse_log_line(line.strip())\n",
    "            if parsed_line:\n",
    "                parsed_logs.append(parsed_line)\n",
    "    return parsed_logs\n"
   ]
  },
  {
   "cell_type": "code",
   "execution_count": 7,
   "metadata": {},
   "outputs": [],
   "source": [
    "log_file_path = 'analysis.log'\n",
    "parsed_logs = parse_log_file(log_file_path)\n",
    "for i in range(len(parsed_logs)-1):\n",
    "    parsed_logs[i]['time_exe'] = float(parsed_logs[i+1]['timestamp']) - float(parsed_logs[i]['timestamp'])\n"
   ]
  },
  {
   "cell_type": "code",
   "execution_count": null,
   "metadata": {},
   "outputs": [],
   "source": []
  }
 ],
 "metadata": {
  "kernelspec": {
   "display_name": "parsl310",
   "language": "python",
   "name": "python3"
  },
  "language_info": {
   "codemirror_mode": {
    "name": "ipython",
    "version": 3
   },
   "file_extension": ".py",
   "mimetype": "text/x-python",
   "name": "python",
   "nbconvert_exporter": "python",
   "pygments_lexer": "ipython3",
   "version": "3.10.14"
  }
 },
 "nbformat": 4,
 "nbformat_minor": 2
}
