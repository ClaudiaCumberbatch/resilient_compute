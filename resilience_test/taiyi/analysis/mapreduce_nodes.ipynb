{
 "cells": [
  {
   "cell_type": "code",
   "execution_count": 1,
   "metadata": {},
   "outputs": [],
   "source": [
    "import sqlite3\n",
    "import matplotlib.pyplot as plt\n",
    "import pandas as pd\n",
    "import seaborn as sns\n",
    "import matplotlib as mpl\n",
    "# plt.style.use(\"/work/cse-zhousc/resilient_compute/resilience_test/taiyi/analysis/paper.mplstyle\")"
   ]
  },
  {
   "cell_type": "code",
   "execution_count": 2,
   "metadata": {},
   "outputs": [],
   "source": [
    "def select_percent(failure_type: str, resilience: int, node: int) -> pd.DataFrame:\n",
    "    # Connect to the SQLite database\n",
    "    conn = sqlite3.connect('/work/cse-zhousc/resilient_compute/resilience_test/taiyi/analysis/mapreduce_correct.db')\n",
    "\n",
    "    # 统计resilience=1中且workflow_finish=1的作业占比\n",
    "    query = f\"\"\"\n",
    "    SELECT COUNT(*)\n",
    "    FROM workflow\n",
    "    WHERE resilience={resilience}\n",
    "    AND failure_type = '{failure_type}'\n",
    "    AND makespan IS NOT NULL\n",
    "    AND failure_rate_set=1\n",
    "    AND workflow_finish=1\n",
    "    AND node_cnt={node}\n",
    "    \"\"\"\n",
    "    \n",
    "    # Load data into a DataFrame\n",
    "    df = pd.read_sql_query(query, conn)\n",
    "    s = df.iloc[0, 0]\n",
    "\n",
    "    query = f\"\"\"\n",
    "    SELECT COUNT(*)\n",
    "    FROM workflow\n",
    "    WHERE resilience={resilience}\n",
    "    AND failure_type = '{failure_type}'\n",
    "    AND makespan IS NOT NULL\n",
    "    AND failure_rate_set=1\n",
    "    AND node_cnt={node}\n",
    "    \"\"\"\n",
    "    df = pd.read_sql_query(query, conn)\n",
    "    t = df.iloc[0, 0]\n",
    "\n",
    "    # Close the database connection\n",
    "    conn.close()\n",
    "\n",
    "    print(f\"resilience={resilience}, node={node}, success={s}, total={t}\")\n",
    "\n",
    "    return s / t\n"
   ]
  },
  {
   "cell_type": "code",
   "execution_count": 3,
   "metadata": {},
   "outputs": [],
   "source": [
    "def get_failure_data(failure_type: str):\n",
    "    wz_r = {}\n",
    "    wz_nr = {}\n",
    "    for node in [2, 5, 9, 17, 33]:\n",
    "        for resilience in [0, 1]:\n",
    "            if resilience == 0:\n",
    "                wz_nr[node-1] = select_percent(failure_type, resilience, node)\n",
    "            else:\n",
    "                wz_r[node-1] = select_percent(failure_type, resilience, node)\n",
    "    print(wz_r)\n",
    "    print(wz_nr)\n",
    "    return wz_r, wz_nr"
   ]
  },
  {
   "cell_type": "code",
   "execution_count": 7,
   "metadata": {},
   "outputs": [],
   "source": [
    "def plot_failure(failure_type: str):\n",
    "    wz_r, wz_nr = get_failure_data(failure_type)\n",
    "    plt.figure(figsize=(4, 2.4))\n",
    "\n",
    "    # sns.set_palette(\"pastel\")\n",
    "    pastel_palette = sns.color_palette(\"pastel\")\n",
    "    blue_color = pastel_palette[0]  # 蓝色\n",
    "    orange_color = pastel_palette[1]  # 橙色\n",
    "    custom_palette = {\n",
    "        'Parsl with WRATH': orange_color,\n",
    "        'Parsl without WRATH': blue_color\n",
    "    }\n",
    "    sns.set_style(\"whitegrid\")\n",
    "\n",
    "    plt.rc('font', size=10)  # 控制默认文本的大小\n",
    "    plt.rc('axes', titlesize=10)  # 控制标题的大小\n",
    "    plt.rc('axes', labelsize=10)  # 控制x轴和y轴标签的大小\n",
    "    plt.rc('xtick', labelsize=10)  # 控制x轴刻度的大小\n",
    "    plt.rc('ytick', labelsize=10)  # 控制y轴刻度的大小\n",
    "    plt.rc('legend', fontsize=10)  # 控制图例的字体大小\n",
    "\n",
    "    ax = sns.lineplot(x=wz_r.keys(), y=wz_r.values(), label='Parsl with WRATH', marker='o', color=orange_color)\n",
    "    sns.lineplot(x=wz_nr.keys(), y=wz_nr.values(), label='Parsl without WRATH', marker='o', color=blue_color)\n",
    "\n",
    "    ax.set_xscale('log', base=2)\n",
    "    ax.set_xlabel('Number of nodes')\n",
    "    ax.set_ylabel('Success rate')\n",
    "    # ax.set_title('Workflow Finish Rate vs. Number of Nodes')\n",
    "    plt.tight_layout()\n",
    "    plt.savefig(f'/work/cse-zhousc/resilient_compute/resilience_test/taiyi/analysis/img/scale_{failure_type}.pdf')\n",
    "\n",
    "    plt.show()\n"
   ]
  },
  {
   "cell_type": "code",
   "execution_count": 8,
   "metadata": {},
   "outputs": [
    {
     "name": "stdout",
     "output_type": "stream",
     "text": [
      "resilience=0, node=2, success=1, total=38\n",
      "resilience=1, node=2, success=45, total=47\n",
      "resilience=0, node=5, success=2, total=19\n",
      "resilience=1, node=5, success=49, total=49\n",
      "resilience=0, node=9, success=3, total=40\n",
      "resilience=1, node=9, success=49, total=49\n",
      "resilience=0, node=17, success=6, total=40\n",
      "resilience=1, node=17, success=48, total=48\n",
      "resilience=0, node=33, success=1, total=39\n",
      "resilience=1, node=33, success=46, total=47\n",
      "{1: np.float64(0.9574468085106383), 4: np.float64(1.0), 8: np.float64(1.0), 16: np.float64(1.0), 32: np.float64(0.9787234042553191)}\n",
      "{1: np.float64(0.02631578947368421), 4: np.float64(0.10526315789473684), 8: np.float64(0.075), 16: np.float64(0.15), 32: np.float64(0.02564102564102564)}\n"
     ]
    },
    {
     "data": {
      "image/png": "[encoded data removed]",
      "text/plain": [
       "<Figure size 400x240 with 1 Axes>"
      ]
     },
     "metadata": {},
     "output_type": "display_data"
    }
   ],
   "source": [
    "plot_failure('memory')"
   ]
  },
  {
   "cell_type": "code",
   "execution_count": 9,
   "metadata": {},
   "outputs": [
    {
     "name": "stdout",
     "output_type": "stream",
     "text": [
      "resilience=0, node=2, success=3, total=50\n",
      "resilience=1, node=2, success=49, total=50\n",
      "resilience=0, node=5, success=1, total=50\n",
      "resilience=1, node=5, success=45, total=50\n",
      "resilience=0, node=9, success=2, total=50\n",
      "resilience=1, node=9, success=50, total=50\n",
      "resilience=0, node=17, success=3, total=50\n",
      "resilience=1, node=17, success=48, total=50\n",
      "resilience=0, node=33, success=1, total=50\n",
      "resilience=1, node=33, success=50, total=50\n",
      "{1: np.float64(0.98), 4: np.float64(0.9), 8: np.float64(1.0), 16: np.float64(0.96), 32: np.float64(1.0)}\n",
      "{1: np.float64(0.06), 4: np.float64(0.02), 8: np.float64(0.04), 16: np.float64(0.06), 32: np.float64(0.02)}\n"
     ]
    },
    {
     "data": {
      "image/png": "[encoded data removed]",
      "text/plain": [
       "<Figure size 400x240 with 1 Axes>"
      ]
     },
     "metadata": {},
     "output_type": "display_data"
    }
   ],
   "source": [
    "plot_failure('import')"
   ]
  },
  {
   "cell_type": "code",
   "execution_count": 10,
   "metadata": {},
   "outputs": [],
   "source": [
    "def select_data():\n",
    "    # Connect to the SQLite database\n",
    "    conn = sqlite3.connect('/work/cse-zhousc/resilient_compute/resilience_test/taiyi/analysis/mapreduce_correct.db')\n",
    "    query = f\"\"\"\n",
    "    SELECT failure_type, node_cnt, overhead/task_count AS overhead_per_task\n",
    "    FROM workflow\n",
    "    WHERE resilience=1\n",
    "    AND makespan IS NOT NULL\n",
    "    ORDER BY node_cnt AND failure_type\n",
    "    \"\"\"\n",
    "    df = pd.read_sql_query(query, conn)\n",
    "    return df"
   ]
  },
  {
   "cell_type": "code",
   "execution_count": 13,
   "metadata": {},
   "outputs": [
    {
     "data": {
      "text/html": [
       "<div>\n",
       "<style scoped>\n",
       "    .dataframe tbody tr th:only-of-type {\n",
       "        vertical-align: middle;\n",
       "    }\n",
       "\n",
       "    .dataframe tbody tr th {\n",
       "        vertical-align: top;\n",
       "    }\n",
       "\n",
       "    .dataframe thead th {\n",
       "        text-align: right;\n",
       "    }\n",
       "</style>\n",
       "<table border=\"1\" class=\"dataframe\">\n",
       "  <thead>\n",
       "    <tr style=\"text-align: right;\">\n",
       "      <th></th>\n",
       "      <th>failure_type</th>\n",
       "      <th>node_cnt</th>\n",
       "      <th>mean</th>\n",
       "      <th>std</th>\n",
       "    </tr>\n",
       "  </thead>\n",
       "  <tbody>\n",
       "    <tr>\n",
       "      <th>0</th>\n",
       "      <td>import</td>\n",
       "      <td>1</td>\n",
       "      <td>0.674350</td>\n",
       "      <td>0.335511</td>\n",
       "    </tr>\n",
       "    <tr>\n",
       "      <th>1</th>\n",
       "      <td>import</td>\n",
       "      <td>2</td>\n",
       "      <td>0.710170</td>\n",
       "      <td>0.387364</td>\n",
       "    </tr>\n",
       "    <tr>\n",
       "      <th>2</th>\n",
       "      <td>import</td>\n",
       "      <td>4</td>\n",
       "      <td>0.752555</td>\n",
       "      <td>0.321830</td>\n",
       "    </tr>\n",
       "    <tr>\n",
       "      <th>3</th>\n",
       "      <td>import</td>\n",
       "      <td>8</td>\n",
       "      <td>0.785480</td>\n",
       "      <td>0.449079</td>\n",
       "    </tr>\n",
       "    <tr>\n",
       "      <th>4</th>\n",
       "      <td>import</td>\n",
       "      <td>16</td>\n",
       "      <td>0.873610</td>\n",
       "      <td>0.417977</td>\n",
       "    </tr>\n",
       "    <tr>\n",
       "      <th>5</th>\n",
       "      <td>import</td>\n",
       "      <td>32</td>\n",
       "      <td>1.063820</td>\n",
       "      <td>0.562741</td>\n",
       "    </tr>\n",
       "    <tr>\n",
       "      <th>6</th>\n",
       "      <td>memory</td>\n",
       "      <td>1</td>\n",
       "      <td>0.191447</td>\n",
       "      <td>0.323860</td>\n",
       "    </tr>\n",
       "    <tr>\n",
       "      <th>7</th>\n",
       "      <td>memory</td>\n",
       "      <td>2</td>\n",
       "      <td>0.107255</td>\n",
       "      <td>0.203132</td>\n",
       "    </tr>\n",
       "    <tr>\n",
       "      <th>8</th>\n",
       "      <td>memory</td>\n",
       "      <td>4</td>\n",
       "      <td>0.112577</td>\n",
       "      <td>0.303354</td>\n",
       "    </tr>\n",
       "    <tr>\n",
       "      <th>9</th>\n",
       "      <td>memory</td>\n",
       "      <td>8</td>\n",
       "      <td>0.104729</td>\n",
       "      <td>0.289089</td>\n",
       "    </tr>\n",
       "    <tr>\n",
       "      <th>10</th>\n",
       "      <td>memory</td>\n",
       "      <td>16</td>\n",
       "      <td>0.070385</td>\n",
       "      <td>0.137211</td>\n",
       "    </tr>\n",
       "    <tr>\n",
       "      <th>11</th>\n",
       "      <td>memory</td>\n",
       "      <td>32</td>\n",
       "      <td>0.156069</td>\n",
       "      <td>0.374257</td>\n",
       "    </tr>\n",
       "  </tbody>\n",
       "</table>\n",
       "</div>"
      ],
      "text/plain": [
       "   failure_type  node_cnt      mean       std\n",
       "0        import         1  0.674350  0.335511\n",
       "1        import         2  0.710170  0.387364\n",
       "2        import         4  0.752555  0.321830\n",
       "3        import         8  0.785480  0.449079\n",
       "4        import        16  0.873610  0.417977\n",
       "5        import        32  1.063820  0.562741\n",
       "6        memory         1  0.191447  0.323860\n",
       "7        memory         2  0.107255  0.203132\n",
       "8        memory         4  0.112577  0.303354\n",
       "9        memory         8  0.104729  0.289089\n",
       "10       memory        16  0.070385  0.137211\n",
       "11       memory        32  0.156069  0.374257"
      ]
     },
     "execution_count": 13,
     "metadata": {},
     "output_type": "execute_result"
    }
   ],
   "source": [
    "df = select_data()\n",
    "# df中node_cnt每个-1\n",
    "df['node_cnt'] = df['node_cnt'] - 1\n",
    "# calculate average and standard deviation\n",
    "df = df.groupby(['failure_type', 'node_cnt']).agg({'overhead_per_task': ['mean', 'std']}).reset_index()\n",
    "df.columns = ['failure_type', 'node_cnt', 'mean', 'std']\n",
    "df"
   ]
  },
  {
   "cell_type": "code",
   "execution_count": 14,
   "metadata": {},
   "outputs": [
    {
     "data": {
      "image/png": "[encoded data removed]",
      "text/plain": [
       "<Figure size 400x240 with 1 Axes>"
      ]
     },
     "metadata": {},
     "output_type": "display_data"
    }
   ],
   "source": [
    "plt.figure(figsize=(4, 2.4))\n",
    "\n",
    "sns.set_palette(\"pastel\")\n",
    "sns.set_style(\"whitegrid\")\n",
    "\n",
    "plt.rc('font', size=10)  # 控制默认文本的大小\n",
    "plt.rc('axes', titlesize=10)  # 控制标题的大小\n",
    "plt.rc('axes', labelsize=10)  # 控制x轴和y轴标签的大小\n",
    "plt.rc('xtick', labelsize=10)  # 控制x轴刻度的大小\n",
    "plt.rc('ytick', labelsize=10)  # 控制y轴刻度的大小\n",
    "plt.rc('legend', fontsize=10)  # 控制图例的字体大小\n",
    "\n",
    "\n",
    "ax = sns.lineplot(x='node_cnt', y='mean', hue='failure_type', data=df, marker='o')\n",
    "\n",
    "# Get the colors used by seaborn\n",
    "palette = sns.color_palette(\"pastel\", len(df['failure_type'].unique()))\n",
    "color_dict = {ftype: palette[i] for i, ftype in enumerate(df['failure_type'].unique())}\n",
    "\n",
    "# Add error bars manually with the same color as the lines\n",
    "for i, row in df.iterrows():\n",
    "    plt.errorbar(x=row['node_cnt'], y=row['mean'], yerr=row['std'], \n",
    "                fmt='none', c=color_dict[row['failure_type']], capsize=5)\n",
    "    \n",
    "# 获取当前图例\n",
    "handles, labels = plt.gca().get_legend_handles_labels()\n",
    "\n",
    "# 将每个图例项的标签首字母大写\n",
    "new_labels = []\n",
    "for label in labels:\n",
    "    new_labels.append(label.capitalize())\n",
    "\n",
    "# 绘制图例并设置新的标签\n",
    "plt.legend(handles, new_labels)\n",
    "\n",
    "ax.set_xscale('log', base=2)\n",
    "ax.set_xlabel('Number of nodes')\n",
    "ax.set_ylabel('Overhead per task (s)')\n",
    "plt.tight_layout()\n",
    "plt.savefig(f'/work/cse-zhousc/resilient_compute/resilience_test/taiyi/analysis/img/mapreduce_overhead.pdf')\n",
    "\n",
    "plt.show()"
   ]
  },
  {
   "cell_type": "code",
   "execution_count": null,
   "metadata": {},
   "outputs": [],
   "source": []
  }
 ],
 "metadata": {
  "kernelspec": {
   "display_name": "draw311",
   "language": "python",
   "name": "python3"
  },
  "language_info": {
   "codemirror_mode": {
    "name": "ipython",
    "version": 3
   },
   "file_extension": ".py",
   "mimetype": "text/x-python",
   "name": "python",
   "nbconvert_exporter": "python",
   "pygments_lexer": "ipython3",
   "version": "3.11.9"
  }
 },
 "nbformat": 4,
 "nbformat_minor": 2
}
